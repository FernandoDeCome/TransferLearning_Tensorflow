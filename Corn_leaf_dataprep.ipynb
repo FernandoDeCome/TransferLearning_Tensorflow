{
 "cells": [
  {
   "cell_type": "markdown",
   "id": "ab10c484",
   "metadata": {},
   "source": [
    "### OCI Data Science - Useful Tips\n",
    "<details>\n",
    "<summary><font size=\"2\">Check for Public Internet Access</font></summary>\n",
    "\n",
    "```python\n",
    "import requests\n",
    "response = requests.get(\"https://oracle.com\")\n",
    "assert response.status_code==200, \"Internet connection failed\"\n",
    "```\n",
    "</details>\n",
    "<details>\n",
    "<summary><font size=\"2\">Helpful Documentation </font></summary>\n",
    "<ul><li><a href=\"https://docs.cloud.oracle.com/en-us/iaas/data-science/using/data-science.htm\">Data Science Service Documentation</a></li>\n",
    "<li><a href=\"https://docs.cloud.oracle.com/iaas/tools/ads-sdk/latest/index.html\">ADS documentation</a></li>\n",
    "</ul>\n",
    "</details>\n",
    "<details>\n",
    "<summary><font size=\"2\">Typical Cell Imports and Settings for ADS</font></summary>\n",
    "\n",
    "```python\n",
    "%load_ext autoreload\n",
    "%autoreload 2\n",
    "%matplotlib inline\n",
    "\n",
    "import warnings\n",
    "warnings.filterwarnings('ignore')\n",
    "\n",
    "import logging\n",
    "logging.basicConfig(format='%(levelname)s:%(message)s', level=logging.ERROR)\n",
    "\n",
    "import ads\n",
    "from ads.dataset.factory import DatasetFactory\n",
    "from ads.automl.provider import OracleAutoMLProvider\n",
    "from ads.automl.driver import AutoML\n",
    "from ads.evaluations.evaluator import ADSEvaluator\n",
    "from ads.common.data import ADSData\n",
    "from ads.explanations.explainer import ADSExplainer\n",
    "from ads.explanations.mlx_global_explainer import MLXGlobalExplainer\n",
    "from ads.explanations.mlx_local_explainer import MLXLocalExplainer\n",
    "from ads.catalog.model import ModelCatalog\n",
    "from ads.common.model_artifact import ModelArtifact\n",
    "```\n",
    "</details>\n",
    "<details>\n",
    "<summary><font size=\"2\">Useful Environment Variables</font></summary>\n",
    "\n",
    "```python\n",
    "import os\n",
    "print(os.environ[\"NB_SESSION_COMPARTMENT_OCID\"])\n",
    "print(os.environ[\"PROJECT_OCID\"])\n",
    "print(os.environ[\"USER_OCID\"])\n",
    "print(os.environ[\"TENANCY_OCID\"])\n",
    "print(os.environ[\"NB_REGION\"])\n",
    "```\n",
    "</details>"
   ]
  },
  {
   "cell_type": "code",
   "execution_count": 2,
   "id": "787ffd47",
   "metadata": {},
   "outputs": [],
   "source": [
    "import matplotlib.pyplot as plt\n",
    "import numpy as np\n",
    "import ocifs\n",
    "import oci\n",
    "import os\n",
    "import io\n",
    "import PIL.Image as Image"
   ]
  },
  {
   "cell_type": "code",
   "execution_count": 3,
   "id": "56083009",
   "metadata": {},
   "outputs": [],
   "source": [
    "config = oci.config.from_file('config')\n",
    "fs = ocifs.OCIFileSystem()\n",
    "object_storage_client = oci.object_storage.ObjectStorageClient(config)"
   ]
  },
  {
   "cell_type": "code",
   "execution_count": 4,
   "id": "951efb4a",
   "metadata": {},
   "outputs": [],
   "source": [
    "spot_images = fs.glob(\"oci://Corn_leaf_disease_SP@id3kyspkytmr/Corn_Cercospora_leaf_spot/*\")\n",
    "rust_images = fs.glob(\"oci://Corn_leaf_disease_SP@id3kyspkytmr/Corn_Common_rust/*\")\n",
    "blight_images = fs.glob(\"oci://Corn_leaf_disease_SP@id3kyspkytmr/Corn_Northern_Leaf_Blight/*\")\n",
    "healthy_images = fs.glob(\"oci://Corn_leaf_disease_SP@id3kyspkytmr/Corn_healthy/*\")"
   ]
  },
  {
   "cell_type": "code",
   "execution_count": 5,
   "id": "84681f0b",
   "metadata": {},
   "outputs": [
    {
     "name": "stdout",
     "output_type": "stream",
     "text": [
      "1642\n",
      "1907\n",
      "1908\n",
      "1859\n"
     ]
    }
   ],
   "source": [
    "print(len(spot_images))\n",
    "print(len(rust_images))\n",
    "print(len(blight_images))\n",
    "print(len(healthy_images))"
   ]
  },
  {
   "cell_type": "code",
   "execution_count": null,
   "id": "d0df7c93",
   "metadata": {},
   "outputs": [],
   "source": [
    "#This could be solved in one single loop\n",
    "\n",
    "for i in range(0, len(healthy_images)):\n",
    "    image_path = f\"train_corn/Healthy/Healthy{i}\"\n",
    "    with fs.open(healthy_images[i]) as f:\n",
    "        content = f.read()\n",
    "        image = Image.open(io.BytesIO(content))\n",
    "        image = image.save(f\"{image_path}.jpeg\")\n",
    "        if i % 100 == 0:\n",
    "            print(f\"{i} imagens carregadas com sucesso\")\n",
    "            \n",
    "for i in range(0, len(rust_images)):\n",
    "    image_path = f\"train_corn/Rust/Rust{i}\"\n",
    "    with fs.open(rust_images[i]) as f:\n",
    "        content = f.read()\n",
    "        image = Image.open(io.BytesIO(content))\n",
    "        image = image.save(f\"{image_path}.jpeg\")\n",
    "        if i % 100 == 0:\n",
    "            print(f\"{i} imagens carregadas com sucesso\")\n",
    "            \n",
    "for i in range(0, len(spot_images)):\n",
    "    image_path = f\"train_corn/Spot/Spot{i}\"\n",
    "    with fs.open(spot_images[i]) as f:\n",
    "        content = f.read()\n",
    "        image = Image.open(io.BytesIO(content))\n",
    "        image = image.save(f\"{image_path}.jpeg\")\n",
    "        if i % 100 == 0:\n",
    "            print(f\"{i} imagens carregadas com sucesso\")\n",
    "            \n",
    "for i in range(0, len(blight_images)):\n",
    "    image_path = f\"train_corn/Blight/Blight{i}\"\n",
    "    with fs.open(blight_images[i]) as f:\n",
    "        content = f.read()\n",
    "        image = Image.open(io.BytesIO(content))\n",
    "        image = image.save(f\"{image_path}.jpeg\")\n",
    "        if i % 100 == 0:\n",
    "            print(f\"{i} imagens carregadas com sucesso\")"
   ]
  },
  {
   "cell_type": "code",
   "execution_count": null,
   "id": "1d2e3aaa",
   "metadata": {},
   "outputs": [],
   "source": []
  }
 ],
 "metadata": {
  "kernelspec": {
   "display_name": "Python 3",
   "language": "python",
   "name": "python3"
  },
  "language_info": {
   "codemirror_mode": {
    "name": "ipython",
    "version": 3
   },
   "file_extension": ".py",
   "mimetype": "text/x-python",
   "name": "python",
   "nbconvert_exporter": "python",
   "pygments_lexer": "ipython3",
   "version": "3.7.10"
  }
 },
 "nbformat": 4,
 "nbformat_minor": 5
}
